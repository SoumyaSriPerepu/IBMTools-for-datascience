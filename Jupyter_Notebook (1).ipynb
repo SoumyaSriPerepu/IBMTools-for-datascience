{
 "cells": [
  {
   "cell_type": "markdown",
   "metadata": {},
   "source": [
    "<center>\n",
    "    <img src=\"https://cf-courses-data.s3.us.cloud-object-storage.appdomain.cloud/IBMDeveloperSkillsNetwork-DS0105EN-SkillsNetwork/labs/Module2/images/SN_web_lightmode.png\" width=\"300\" alt=\"cognitiveclass.ai logo\">\n",
    "</center>\n"
   ]
  },
  {
   "cell_type": "markdown",
   "metadata": {},
   "source": [
    "#### Add your code below following the instructions given in the course\n"
   ]
  },
  {
   "cell_type": "code",
   "execution_count": 1,
   "metadata": {
    "tags": []
   },
   "outputs": [],
   "source": [
    "#Create a markdown cell with the title of the notebook"
   ]
  },
  {
   "cell_type": "markdown",
   "metadata": {},
   "source": [
    "## Jupyter_Notebook"
   ]
  },
  {
   "cell_type": "code",
   "execution_count": 1,
   "metadata": {
    "tags": []
   },
   "outputs": [],
   "source": [
    "#Create a markdown cell for an introduction"
   ]
  },
  {
   "cell_type": "markdown",
   "metadata": {},
   "source": [
    "Hi, I am Soumya"
   ]
  },
  {
   "cell_type": "code",
   "execution_count": 2,
   "metadata": {
    "tags": []
   },
   "outputs": [],
   "source": [
    "#- Create a markdown cell to list data science languages."
   ]
  },
  {
   "cell_type": "markdown",
   "metadata": {},
   "source": [
    "1.python\n",
    "2. R\n",
    "3. SQL\n",
    "4. Machine Learning\n",
    "5. Deep Learning"
   ]
  },
  {
   "cell_type": "code",
   "execution_count": 3,
   "metadata": {
    "tags": []
   },
   "outputs": [],
   "source": [
    "#Create a markdown cell to list data science libraries."
   ]
  },
  {
   "cell_type": "markdown",
   "metadata": {},
   "source": [
    "1.Numpy\n",
    "2.Pandas\n",
    "3.Mathplotlib\n",
    "4.scikit\n",
    "5.ggplot"
   ]
  },
  {
   "cell_type": "code",
   "execution_count": 4,
   "metadata": {
    "tags": []
   },
   "outputs": [],
   "source": [
    "#Create a markdown cell with a table of Data Science tools"
   ]
  },
  {
   "cell_type": "markdown",
   "metadata": {},
   "source": [
    "| **Tool**               | **Category**       | **Description**                                                                 |\n",
    "|------------------------|--------------------|---------------------------------------------------------------------------------|\n",
    "| **Jupyter Notebook**    | IDE/Environment    | An open-source web application that allows you to create and share documents containing live code, equations, visualizations, and narrative text. |\n",
    "| **RStudio**            | IDE/Environment    | An integrated development environment for R that supports a variety of R-related development tasks.         |\n",
    "| **Apache Hadoop**      | Big Data Framework | A framework that allows for the distributed processing of large data sets across clusters of computers.       |\n",
    "| **Apache Spark**       | Big Data Framework | An open-source unified analytics engine for large-scale data processing, with built-in modules for streaming, SQL, machine learning, and graph processing. |\n",
    "| **Tableau**            | Data Visualization | A powerful, interactive data visualization tool that helps in creating detailed charts and dashboards.        |\n",
    "| **Power BI**           | Data Visualization | A business analytics tool by Microsoft that provides interactive visualizations and business intelligence capabilities. |\n",
    "| **TensorFlow**         | Machine Learning   | An open-source library developed by Google for numerical computation and machine learning.                    |\n",
    "| **PyTorch**            | Machine Learning   | An open-source machine learning library based on the Torch library, used for applications such as computer vision and natural language processing. |\n",
    "| **Pandas**             | Data Manipulation  | A Python library providing data structures and data analysis tools, primarily for working with structured data (e.g., DataFrames). |\n",
    "| **NumPy**              | Data Manipulation  | A fundamental package for scientific computing in Python, providing support for large multidimensional arrays and matrices. |\n",
    "| **Scikit-learn**       | Machine Learning   | A Python library for machine learning that provides simple and efficient tools for data mining and data analysis. |\n",
    "| **Matplotlib**         | Data Visualization | A plotting library for the Python programming language and its numerical mathematics extension NumPy.         |\n",
    "| **Seaborn**            | Data Visualization | A Python visualization library based on Matplotlib that provides a high-level interface for drawing attractive statistical graphics. |\n",
    "| **SQL**                | Database Management| A standard programming language for managing and manipulating relational databases.                            |\n",
    "| **Excel**              | Data Analysis      | A spreadsheet program that features calculation, graphing tools, pivot tables, and a macro programming language.|\n"
   ]
  },
  {
   "cell_type": "code",
   "execution_count": 5,
   "metadata": {
    "tags": []
   },
   "outputs": [],
   "source": [
    "#Create a markdown cell introducing arithmetic expression examples"
   ]
  },
  {
   "cell_type": "markdown",
   "metadata": {},
   "source": [
    "1. 2+2 = 4\n",
    "2. 2-2 = 0\n",
    "3. 2*2 = 4\n",
    "4. 2/2 = 1"
   ]
  },
  {
   "cell_type": "code",
   "execution_count": 6,
   "metadata": {
    "tags": []
   },
   "outputs": [],
   "source": [
    "#Create a code cell to multiply and add number"
   ]
  },
  {
   "cell_type": "code",
   "execution_count": 7,
   "metadata": {
    "tags": []
   },
   "outputs": [
    {
     "data": {
      "text/plain": [
       "4"
      ]
     },
     "execution_count": 7,
     "metadata": {},
     "output_type": "execute_result"
    }
   ],
   "source": [
    "2+2\n"
   ]
  },
  {
   "cell_type": "code",
   "execution_count": 9,
   "metadata": {
    "tags": []
   },
   "outputs": [
    {
     "data": {
      "text/plain": [
       "4"
      ]
     },
     "execution_count": 9,
     "metadata": {},
     "output_type": "execute_result"
    }
   ],
   "source": [
    "2 * 2"
   ]
  },
  {
   "cell_type": "code",
   "execution_count": 10,
   "metadata": {
    "tags": []
   },
   "outputs": [],
   "source": [
    "#Create a code cell to convert minutes to hours."
   ]
  },
  {
   "cell_type": "code",
   "execution_count": 11,
   "metadata": {
    "tags": []
   },
   "outputs": [
    {
     "name": "stdout",
     "output_type": "stream",
     "text": [
      "360\n"
     ]
    }
   ],
   "source": [
    "min = 6\n",
    "sec = min * 60\n",
    "print(sec)"
   ]
  },
  {
   "cell_type": "code",
   "execution_count": 12,
   "metadata": {
    "tags": []
   },
   "outputs": [],
   "source": [
    "#Insert a markdown cell to list Objectives"
   ]
  },
  {
   "cell_type": "markdown",
   "metadata": {},
   "source": [
    "Exercise 2 - Create a markdown cell with the title of the notebook. (1 pt)\n",
    "\n",
    "Exercise 3 - Create a markdown cell for an introduction. (1 pt)\n",
    "\n",
    "Exercise 4 - Create a markdown cell to list data science languages. (3 pts)\n",
    "\n",
    "Exercise 5 - Create a markdown cell to list data science libraries. (3 pts)\n",
    "\n",
    "Exercise 6 - Create a markdown cell with a table of Data Science tools. (3 pts)\n",
    "\n",
    "Exercise 7 - Create a markdown cell introducing arithmetic expression examples. (1 pt)\n",
    "\n",
    "Exercise 8 - Create a code cell to multiply and add numbers. (2 pts)\n",
    "\n",
    "Exercise 9 - Create a code cell to convert minutes to hours. (2 pts)\n",
    "\n",
    "Exercise 10 -Insert a markdown cell to list Objectives. (3 pts)\n",
    "\n",
    "Exercise 11 - Create a markdown cell to indicate the Author’s name. (2 pts)\n",
    "\n",
    "Exercise 12 - Share your notebook through GitHub (3 pts)\n",
    "\n",
    "Exercise 13 - Take a screenshot of the first page of the notebook. (1 pt)"
   ]
  },
  {
   "cell_type": "code",
   "execution_count": 13,
   "metadata": {
    "tags": []
   },
   "outputs": [],
   "source": [
    "#Create a markdown cell to indicate the Author’s name"
   ]
  },
  {
   "cell_type": "markdown",
   "metadata": {},
   "source": [
    "My name - Author name - Soumya"
   ]
  },
  {
   "cell_type": "code",
   "execution_count": 14,
   "metadata": {
    "tags": []
   },
   "outputs": [],
   "source": [
    "# Share your notebook through GitHub"
   ]
  },
  {
   "cell_type": "markdown",
   "metadata": {},
   "source": [
    "GitHub is a web-based platform that provides version control using Git, allowing developers to collaborate on projects, manage code repositories, and track changes over time. It supports branching, merging, and pull requests, making it easier for teams to work together on code. GitHub also offers features like issue tracking, project management, and integration with various CI/CD tools, enhancing the overall software development workflow. Its social coding aspects, such as forking repositories and contributing to open-source projects, make it a vital tool for both individual developers and teams."
   ]
  },
  {
   "cell_type": "code",
   "execution_count": 15,
   "metadata": {
    "tags": []
   },
   "outputs": [],
   "source": [
    "#Take a screenshot of the first page of the notebook"
   ]
  },
  {
   "cell_type": "code",
   "execution_count": null,
   "metadata": {},
   "outputs": [],
   "source": []
  },
  {
   "cell_type": "code",
   "execution_count": null,
   "metadata": {},
   "outputs": [],
   "source": []
  }
 ],
 "metadata": {
  "kernelspec": {
   "display_name": "Python",
   "language": "python",
   "name": "conda-env-python-py"
  },
  "language_info": {
   "codemirror_mode": {
    "name": "ipython",
    "version": 3
   },
   "file_extension": ".py",
   "mimetype": "text/x-python",
   "name": "python",
   "nbconvert_exporter": "python",
   "pygments_lexer": "ipython3",
   "version": "3.7.12"
  }
 },
 "nbformat": 4,
 "nbformat_minor": 4
}
